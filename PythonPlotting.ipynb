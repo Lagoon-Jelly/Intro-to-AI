{
  "nbformat": 4,
  "nbformat_minor": 0,
  "metadata": {
    "colab": {
      "provenance": [],
      "authorship_tag": "ABX9TyNmHiJ+zq3rcbFjlZld//mI",
      "include_colab_link": true
    },
    "kernelspec": {
      "name": "python3",
      "display_name": "Python 3"
    },
    "language_info": {
      "name": "python"
    }
  },
  "cells": [
    {
      "cell_type": "markdown",
      "metadata": {
        "id": "view-in-github",
        "colab_type": "text"
      },
      "source": [
        "<a href=\"https://colab.research.google.com/github/Lagoon-Jelly/Intro-to-AI/blob/main/PythonPlotting.ipynb\" target=\"_parent\"><img src=\"https://colab.research.google.com/assets/colab-badge.svg\" alt=\"Open In Colab\"/></a>"
      ]
    },
    {
      "cell_type": "code",
      "source": [
        "# Importing plotting library\n",
        "import matplotlib.pyplot as plt\n",
        "# if you didnt do the above you would have to do the following anytime you wanted to plot\n",
        "# matplotlib.pyplot.plt.pliot(x,y)\n",
        "# instead the folllowing works\n",
        "# plt.plot(x,y)"
      ],
      "metadata": {
        "id": "oi8wf6o1oT1i"
      },
      "execution_count": 1,
      "outputs": []
    },
    {
      "cell_type": "code",
      "execution_count": 1,
      "metadata": {
        "colab": {
          "base_uri": "https://localhost:8080/"
        },
        "id": "N2aUpxN0d-ox",
        "outputId": "7a175fc7-dd2b-42c0-8463-30c370fb1e19"
      },
      "outputs": [
        {
          "output_type": "stream",
          "name": "stdout",
          "text": [
            "Gia waz here\n"
          ]
        }
      ],
      "source": [
        "print('Gia waz here')"
      ]
    },
    {
      "cell_type": "code",
      "source": [
        "x = 4\n",
        "print(x)"
      ],
      "metadata": {
        "colab": {
          "base_uri": "https://localhost:8080/"
        },
        "id": "l0w3JUjQfXLv",
        "outputId": "f6f4a222-b8f3-48dd-e00c-c7bbab566487"
      },
      "execution_count": 3,
      "outputs": [
        {
          "output_type": "stream",
          "name": "stdout",
          "text": [
            "4\n"
          ]
        }
      ]
    },
    {
      "cell_type": "code",
      "source": [
        "# Mkae fake data\n",
        "# The'#' symbol means a comment\n",
        "# [] is used for lists - so x and y are lists\n",
        "# Note that y is x squared\n",
        "x = [1,2,3,4]\n",
        "y = [1,4,9,16]\n",
        "\n",
        "#plot x and y\n",
        "plt.plot(x,y,'violet')\n"
      ],
      "metadata": {
        "colab": {
          "base_uri": "https://localhost:8080/",
          "height": 447
        },
        "id": "57fk09O2nT50",
        "outputId": "fda2878b-72dd-4739-d2d6-b8185db5a22b"
      },
      "execution_count": 6,
      "outputs": [
        {
          "output_type": "execute_result",
          "data": {
            "text/plain": [
              "[<matplotlib.lines.Line2D at 0x7f97bc317bb0>]"
            ]
          },
          "metadata": {},
          "execution_count": 6
        },
        {
          "output_type": "display_data",
          "data": {
            "text/plain": [
              "<Figure size 640x480 with 1 Axes>"
            ],
            "image/png": "[encoded data removed]"
          },
          "metadata": {}
        }
      ]
    },
    {
      "cell_type": "code",
      "source": [
        "# Use numpy\n",
        "import numpy as np\n",
        "# Make vector (1-D array);\n",
        "# Technically numpy is converting lists into vectors here\n",
        "x = np.array([1,2,3,4])\n",
        "y = np.array([1,4,9,16])\n",
        "print(x)\n",
        "print(y)\n",
        "# Define y differently\n",
        "# x**2 means x squared\n",
        "y = x**2\n",
        "\n",
        "# Show\n",
        "print(y)\n"
      ],
      "metadata": {
        "colab": {
          "base_uri": "https://localhost:8080/"
        },
        "id": "tsHIaofUr0xN",
        "outputId": "a2539326-35f3-4422-ca2a-01849aa33f20"
      },
      "execution_count": 8,
      "outputs": [
        {
          "output_type": "stream",
          "name": "stdout",
          "text": [
            "[1 2 3 4]\n",
            "[ 1  4  9 16]\n",
            "[ 1  4  9 16]\n"
          ]
        }
      ]
    }
  ]
}